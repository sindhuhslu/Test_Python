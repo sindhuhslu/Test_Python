{
 "cells": [
  {
   "cell_type": "code",
   "execution_count": 9,
   "id": "cc5d7d17-fd30-41df-be84-7f5272dbc3d1",
   "metadata": {},
   "outputs": [
    {
     "name": "stdout",
     "output_type": "stream",
     "text": [
      "happy\n",
      "birthday\n",
      "to you\n",
      "\n",
      "happy\n",
      "birthday\n",
      "to you\n",
      "\n",
      "happyBro!\n",
      "birthday\n",
      "to you\n",
      "\n",
      "happySabino!\n",
      "birthday\n",
      "to you\n",
      "\n"
     ]
    }
   ],
   "source": [
    "print(\"happy\")\n",
    "print(\"birthday\")\n",
    "print(\"to you\")\n",
    "print()\n",
    "\n",
    "\n",
    "print(\"happy\")\n",
    "print(\"birthday\")\n",
    "print(\"to you\")\n",
    "print()\n",
    "\n",
    "\n",
    "#fucntions = reuse\n",
    "\n",
    "def happy_birthday(name):\n",
    "    print(f\"happy{name}!\")\n",
    "    print(\"birthday\")\n",
    "    print(\"to you\")\n",
    "    print()\n",
    "#happy_birthday() #to invoke a function, type funxtion name and add () an you can send data t function called arguments\n",
    "\n",
    "happy_birthday(\"Bro\")\n",
    "happy_birthday(\"Sabino\")"
   ]
  },
  {
   "cell_type": "code",
   "execution_count": 12,
   "id": "817df7dc-cf06-4822-b379-662258964572",
   "metadata": {},
   "outputs": [
    {
     "name": "stdout",
     "output_type": "stream",
     "text": [
      "Hello BroCode\n",
      "Your bill of $ 42.50 is due: 01/06/25\n"
     ]
    }
   ],
   "source": [
    "def display_invoice(username, amount, due_date):\n",
    "    print(f\"Hello {username}\")\n",
    "    print(f\"Your bill of ${amount: .2f} is due: {due_date}\")\n",
    "display_invoice(\"BroCode\", 42.50, \"01/06/25\")"
   ]
  },
  {
   "cell_type": "code",
   "execution_count": 18,
   "id": "c689d4d7-b07d-4509-ab81-9385696aef5b",
   "metadata": {},
   "outputs": [
    {
     "name": "stdout",
     "output_type": "stream",
     "text": [
      "3\n",
      "-1\n"
     ]
    }
   ],
   "source": [
    "def add(x, y):\n",
    "    z = x + y\n",
    "    return z\n",
    "    \n",
    "def subtract(x, y):\n",
    "    z = x - y\n",
    "    return z\n",
    "\n",
    "print(add(1, 2))\n",
    "print(subtract(1, 2))\n",
    "\n"
   ]
  },
  {
   "cell_type": "code",
   "execution_count": 20,
   "id": "343481c7-66d6-44b3-abef-da176151d287",
   "metadata": {},
   "outputs": [
    {
     "name": "stdout",
     "output_type": "stream",
     "text": [
      "Bro Code\n"
     ]
    }
   ],
   "source": [
    "def create_name(first, last):\n",
    "    first = first.capitalize()\n",
    "    last = last.capitalize()\n",
    "    return first + \" \" + last\n",
    "\n",
    "full_name = create_name(\"bro\", \"code\")\n",
    "\n",
    "print(full_name)"
   ]
  }
 ],
 "metadata": {
  "kernelspec": {
   "display_name": "Python 3 (ipykernel)",
   "language": "python",
   "name": "python3"
  },
  "language_info": {
   "codemirror_mode": {
    "name": "ipython",
    "version": 3
   },
   "file_extension": ".py",
   "mimetype": "text/x-python",
   "name": "python",
   "nbconvert_exporter": "python",
   "pygments_lexer": "ipython3",
   "version": "3.11.7"
  }
 },
 "nbformat": 4,
 "nbformat_minor": 5
}
