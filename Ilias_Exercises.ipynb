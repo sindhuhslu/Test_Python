{
 "cells": [
  {
   "cell_type": "code",
   "execution_count": 19,
   "id": "e57a089a-6033-4d09-b1d3-1da54f0f4695",
   "metadata": {},
   "outputs": [
    {
     "name": "stdout",
     "output_type": "stream",
     "text": [
      "good morning\n",
      "good morning\n"
     ]
    }
   ],
   "source": [
    "#ILias Exercise\n",
    "#01\n",
    "\n",
    "\n",
    "random_name = \"$#@|~aslbagjkels nspielbiack ipnzqnmyxrclwqpiofpgwirmvoiupq riepwqdjoi pioack o ocpalsig====%%%**>\"\n",
    "print(random_name[-11:7:-7])\n",
    "\n",
    "random_name1 = random_name[5:-10]\n",
    "print(random_name1[::-7])"
   ]
  },
  {
   "cell_type": "code",
   "execution_count": 3,
   "id": "1240b31d-1ee1-4efa-a750-10178b014311",
   "metadata": {},
   "outputs": [
    {
     "name": "stdout",
     "output_type": "stream",
     "text": [
      "good morning\n"
     ]
    }
   ],
   "source": [
    "string = \"$#@|~aslbagjkels nspielbiack ipnzqnmyxrclwqpiofpgwirmvoiupq riepwqdjoi pioack o ocpalsig====%%%**>\"\n",
    "\n",
    "print(string[-11:5:-7])"
   ]
  },
  {
   "cell_type": "code",
   "execution_count": null,
   "id": "e88d2f28-53c8-40a8-bd9a-98ec381235b4",
   "metadata": {},
   "outputs": [],
   "source": []
  },
  {
   "cell_type": "code",
   "execution_count": null,
   "id": "1b1320e0-7a2e-4a10-8a61-0bb24adbbea0",
   "metadata": {},
   "outputs": [],
   "source": []
  }
 ],
 "metadata": {
  "kernelspec": {
   "display_name": "Python 3 (ipykernel)",
   "language": "python",
   "name": "python3"
  },
  "language_info": {
   "codemirror_mode": {
    "name": "ipython",
    "version": 3
   },
   "file_extension": ".py",
   "mimetype": "text/x-python",
   "name": "python",
   "nbconvert_exporter": "python",
   "pygments_lexer": "ipython3",
   "version": "3.11.7"
  }
 },
 "nbformat": 4,
 "nbformat_minor": 5
}
