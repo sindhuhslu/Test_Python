123{
 "cells": [
  {
   "cell_type": "code",
   "execution_count": 5,
   "id": "446bf67e",
   "metadata": {},
   "outputs": [
    {
     "name": "stdout",
     "output_type": "stream",
     "text": [
      "good morning\n"
     ]
    }
   ],
   "source": [
    "# 01 sw02 quick slicing\n",
    "#From the following given string, slice every 7th element in reverse order\n",
    "#by omitting all heading and tailing special characters with appropriate \n",
    "#start and end positions.\n",
    "\n",
    "sting = \"$#@|~aslbagjkels nspielbiack ipnzqnmyxrclwqpiofpgwirmvoiupq riepwqdjoi pioack o ocpalsig====%%%**>\"\n",
    "\n",
    "print(sting[-11:4:-7])"
   ]
  },
  {
   "cell_type": "code",
   "execution_count": 6,
   "id": "20a9c285",
   "metadata": {},
   "outputs": [
    {
     "name": "stdout",
     "output_type": "stream",
     "text": [
      "2.71828182620\n",
      "54\n"
     ]
    }
   ],
   "source": [
    "# 02 sw03 for/while loop\n",
    "#Count the first 11 decimal numbers of the natural number\n",
    "#exp(1) = 2.71828 18284 5...\n",
    "\n",
    "# 1. Calculate at least the first 11 decimal numbers using the given formula\n",
    "#above. That means, the denuminator of the last addend must be  ≥10^11.\n",
    "\n",
    "n = 1\n",
    "x = 1\n",
    "for i in range(1,12):\n",
    "    n += 1/(x*i)  # n = n + 1/(x*i) 1+ 1/2+ 1/6+ 1/16\n",
    "    x *= i # x = x*i\n",
    "print(\"%13.11f\" % (n))\n",
    "\n",
    "# 2. Sum up all decimal numbers of the resulting Euler-number up to the 11th\n",
    "#position. In fact, sum the bold numbers of 2.71828182845 in a loop.\n",
    "\n",
    "e = 2.71828182845\n",
    "str_e = str(e)\n",
    "res = 0\n",
    "for i in str_e[2:]:\n",
    "    res += int(i)\n",
    "print(res)\n",
    "\n",
    "#output should be 54"
   ]
  },
  {
   "cell_type": "code",
   "execution_count": 7,
   "id": "2f01abca",
   "metadata": {},
   "outputs": [
    {
     "name": "stdout",
     "output_type": "stream",
     "text": [
      "45\n",
      "45\n"
     ]
    }
   ],
   "source": [
    "# 03 sw04 toast count\n",
    "#At a party you want to know how often guests toast with the wine before\n",
    "#the dinner. Assume each of n guests has a glass and toasts with all other\n",
    "#guests.\n",
    "\n",
    "# 1. Count in a for loop.\n",
    "\n",
    "n = 10\n",
    "toasts = 0\n",
    "for i in range(n,1,-1):\n",
    "    toasts += i-1\n",
    "print(toasts)\n",
    "\n",
    "# 2. Count in a while loop.\n",
    "\n",
    "n = 10\n",
    "toasts = 0\n",
    "i=n-1\n",
    "while i > 0:\n",
    "    toasts += i\n",
    "    i -= 1\n",
    "print(toasts)"
   ]
  },
  {
   "cell_type": "code",
   "execution_count": 8,
   "id": "4910186f",
   "metadata": {},
   "outputs": [
    {
     "name": "stdout",
     "output_type": "stream",
     "text": [
      "['today', 'is', 'a', 'very', 'beautiful', 'day.']\n",
      "['toda', ' is a ver', ' beautiful da', '.']\n"
     ]
    }
   ],
   "source": [
    "# 04 sw05 string split\n",
    "#Define a function called strSplit(...) that iterates over a string and splits\n",
    "#a string into substrings by a given character while the given character is NOT\n",
    "#part of any substring. The default separation is the space character.\n",
    "#The function should provide two parameters: one for the string to split and\n",
    "#another for the character to split. As result, the function returns a list\n",
    "#with all substrings. Applied on the given string mystr, the function strSplit\n",
    "#should return following lists:\n",
    "\n",
    "mystr = 'today is a very beautiful day.'\n",
    "#strSplit(mystr)\n",
    "#['today','is','a','very','beautiful','day']\n",
    "#strSplit(mystr, 'y')\n",
    "#['toda',' is a ver',' beautiful da']\n",
    "\n",
    "def strSplit(string, char = \" \"):\n",
    "    print(string.split(char))\n",
    "\n",
    "strSplit(mystr)    \n",
    "strSplit(mystr, \"y\")"
   ]
  },
  {
   "cell_type": "code",
   "execution_count": 9,
   "id": "1f77e567",
   "metadata": {},
   "outputs": [
    {
     "name": "stdout",
     "output_type": "stream",
     "text": [
      "hel\n",
      "WOR\n",
      "jo\n",
      "tri\n"
     ]
    }
   ],
   "source": [
    "# 05 sw06 string cut\n",
    "#Program a function strcut that cuts all strings passed to the function from\n",
    "#the n-th element and prints all shortened strings. Thereby, the amount\n",
    "#of passed strings should be arbitrary.\n",
    "\n",
    "def strcut(*string, n):\n",
    "    for i in string:\n",
    "        print(i[:n])\n",
    "        \n",
    "strcut(\"hello\", \"WORLD\", \"jo\", \"trial\", n=3)"
   ]
  },
  {
   "cell_type": "code",
   "execution_count": 10,
   "id": "8194bf76",
   "metadata": {
    "scrolled": true
   },
   "outputs": [
    {
     "name": "stdout",
     "output_type": "stream",
     "text": [
      "3.0\n"
     ]
    }
   ],
   "source": [
    "# 07 sw08 class definition\n",
    "#Create a class named DataHandler that takes a data series (list of numbers)\n",
    "#as argument and provides two methods: addValue(x), adding the value x to every\n",
    "#single element of the list passed to the __init__ method and has no return.\n",
    "#sum(), returns the sum of all elements of the hosted list You can verify the \n",
    "#class DataHandler with the following code. Think about if the resulting\n",
    "#ratio; is it correct?\n",
    "\n",
    "class DataHandler:\n",
    "    \n",
    "    def __init__(self, ds):\n",
    "        self.ds = ds\n",
    "    \n",
    "    def addValue(self, x):\n",
    "        self.ds = [i + x for i in self.ds]\n",
    "    \n",
    "    def sum(self):\n",
    "        return sum(self.ds)\n",
    "\n",
    "a = DataHandler([2,3,4])\n",
    "b = DataHandler([1,2,3])\n",
    "\n",
    "a.addValue(3)\n",
    "\n",
    "ratio = a.sum()/b.sum()\n",
    "print(ratio)"
   ]
  },
  {
   "cell_type": "code",
   "execution_count": 11,
   "id": "753fa585",
   "metadata": {},
   "outputs": [
    {
     "name": "stdout",
     "output_type": "stream",
     "text": [
      "The job is done!\n"
     ]
    }
   ],
   "source": [
    "# 08 sw09 inheritance\n",
    "#Write a new class called 'MyStr' that inherits from str. In addition\n",
    "#'MyStr' provides a function called bi_rev() that returns every 2nd character\n",
    "#in reverse order, beginning by the last character (i.e. it prints the\n",
    "#characters n, n-2, n-4, ...).\n",
    "\n",
    "class MyStr(str):\n",
    "    def __init__(self, sentence):\n",
    "        self.sentence = sentence\n",
    "    \n",
    "    def bi_rev(self):\n",
    "        return self[-1::-2]\n",
    "\n",
    "txt1 = MyStr('z!me ngosdf nsjir zbgocjx aewh!T')\n",
    "print(txt1.bi_rev())"
   ]
  },
  {
   "cell_type": "code",
   "execution_count": 12,
   "id": "49a6ef5a",
   "metadata": {},
   "outputs": [
    {
     "name": "stdout",
     "output_type": "stream",
     "text": [
      "child features\n",
      "parent features\n",
      "1: features are:  [2, 6]\n",
      "2: feature counts:  3\n",
      "parent features\n",
      "3: reduced features:  [6, 8]\n"
     ]
    }
   ],
   "source": [
    "# 09 sw10 advanced inheritance\n",
    "#Create a class named DataSeries that takes over a list (data series) and\n",
    "#provides two methods: get_features(dx), it returns a list with the positions\n",
    "#of the first of two subsequent elements that have an absolute mummerical\n",
    "#distance (count data) equal or above (>=) than the given distance dx.\n",
    "#count_features(), returns the number of features in a series of count data\n",
    "#values. Create a second class MyDataSeries that inherits from DataSeries and\n",
    "#takes over a list (data series). This class overrides the function\n",
    "#get_features and allows to set a range of dx_min and dx_max (boundaries\n",
    "#included) for feature detection.\n",
    "\n",
    "class DataSeries:\n",
    " \n",
    "    def __init__(self, series):\n",
    "        self._ds = series\n",
    "        self._feature_list = []\n",
    " \n",
    "    def get_features(self, dx):\n",
    "        print('parent features')\n",
    "        self._feature_list = []\n",
    "        for i in range(0, len(self._ds) - 1):\n",
    "            if (self._ds[i + 1] - self._ds[i]) >= dx:\n",
    "                self._feature_list.append(i)\n",
    "                # append element\n",
    "            elif (self._ds[i] - self._ds[i + 1]) >= dx:\n",
    "                self._feature_list += [i]\n",
    "                # append element\n",
    "        return self._feature_list\n",
    " \n",
    "    def count_features(self):\n",
    "        return len(self._feature_list)\n",
    " \n",
    " \n",
    "class MyDataSeries(DataSeries):\n",
    "    \"\"\"\n",
    "    this is the main class\n",
    " \n",
    "    @param: DataSeries - a series of data points\n",
    "    \"\"\"\n",
    " \n",
    "    def get_features(self, dx_min, dx_max=None):\n",
    "        print('child features')\n",
    "        fl = super().get_features(dx_min)\n",
    "        _reduced_list = []\n",
    "        for i in fl:\n",
    "            dx1 = (self._ds[i] - self._ds[i + 1])\n",
    "            dx2 = (self._ds[i + 1] - self._ds[i])\n",
    "            if (dx_min <= dx1 <= dx_max) or (dx_min <= dx2 <= dx_max):\n",
    "                _reduced_list += [i]\n",
    "        return _reduced_list\n",
    " \n",
    " \n",
    "my_ds = MyDataSeries([1, 2, 3, 6, 7, 6, 5, 1, 2, 10, 11, 10])\n",
    "print('1: features are: ', my_ds.get_features(3, 7))                  # output: [2, 6]\n",
    "print('2: feature counts: ', my_ds.count_features())                  # output: 3\n",
    "print('3: reduced features: ', DataSeries.get_features(my_ds, 4))     # output: [6, 8]\n"
   ]
  },
  {
   "cell_type": "code",
   "execution_count": 13,
   "id": "2d6992db",
   "metadata": {},
   "outputs": [
    {
     "name": "stdout",
     "output_type": "stream",
     "text": [
      "hello\n",
      "string index out of range\n",
      "help\n"
     ]
    }
   ],
   "source": [
    "# 10 sw11 string select\n",
    "#Program a function strselect that returns all strings of a list having the\n",
    "#letter passed to the parameter key at the given position p. Catch the\n",
    "#IndexError that is raised if the position p is out of index range and print\n",
    "#the error message \"string index out of range\" instead.\n",
    "\n",
    "def strselect(string, key, p):\n",
    "    for i in string:\n",
    "        try:\n",
    "            if i[p] == key:\n",
    "                print(i)\n",
    "        except IndexError:\n",
    "            print(\"string index out of range\")\n",
    "    \n",
    "strselect([\"hello\", \"of\", \"help\", \"world\"], key = \"l\", p = 2)\n",
    "    "
   ]
  },
  {
   "cell_type": "code",
   "execution_count": 14,
   "id": "d9ab26a8",
   "metadata": {},
   "outputs": [
    {
     "name": "stdout",
     "output_type": "stream",
     "text": [
      "[31, 50, 53, 61, 85, 112, 144, 173, 218, 16, 257, 337, 338, 19, 415, 477, 495, 537, 625, 647, 693, 795, 869, 958, 983]\n",
      "[16, 19, 31, 50, 53, 61, 85, 338, 693, 144, 958, 495, 218, 647, 337, 869, 537, 477, 625, 173, 795, 257, 983, 415, 112]\n"
     ]
    }
   ],
   "source": [
    "# 11 lambda function\n",
    "#Use the function sorted with lambda functions to sort my_list in two different\n",
    "#ways: \n",
    "\n",
    "\n",
    "my_list = [338, 693, 19, 144, 85, 958, 495, 218, 647, 50, 337, 869, 537, 477,\n",
    "           625, 31, 173, 795, 61, 257, 983, 415, 16, 112, 53]\n",
    "\n",
    "# 1. sort my_list in increasing order while using the square for all\n",
    "#values less than 30.\n",
    "\n",
    "my_list_sorted = sorted(my_list, key = lambda x: x**2 if x < 30 else x)\n",
    "print(my_list_sorted)\n",
    "\n",
    "# 2. sort only values less than 100 and keep all others\n",
    "#in original order after the sorted values.\n",
    "#e.g. [400, 60, 200, 7, 40, 300]  ->  [7, 40, 60, 400, 200, 300]\n",
    "\n",
    "my_list_less_than_100 = sorted([x for x in my_list if x < 100])\n",
    "my_list_more_than_100 = [x for x in my_list if x >= 100]\n",
    "my_list_sorted_again = my_list_less_than_100 + my_list_more_than_100\n",
    "print(my_list_sorted_again)"
   ]
  },
  {
   "cell_type": "code",
   "execution_count": 15,
   "id": "dc2c6618",
   "metadata": {},
   "outputs": [
    {
     "name": "stdout",
     "output_type": "stream",
     "text": [
      "[96, 435, 923, 610, 609, 327, 234, 99, 479, 704, 823, 249, 537, 467, 885]\n",
      "[743, 347, 44, 532, 931, 343, 696, 120, 534, 424, 777, 291, 876, 685, 587]\n",
      "[790, 681, 231, 644, 496, 208, 777, 228, 528, 369, 787, 620, 700, 69, 491]\n",
      "[875, 493, 149, 361, 324, 351, 520, 6, 413, 490, 316, 238, 112, 181, 657]\n",
      "[467, 42, 188, 478, 165, 185, 452, 867, 374, 699, 203, 202, 168, 735, 194]\n",
      "[886, 358, 166, 734, 554, 301, 912, 498, 222, 838, 411, 793, 366, 356, 513]\n",
      "[152, 631, 17, 153, 943, 549, 666, 786, 894, 683, 171, 357, 190, 129, 943]\n",
      "[545, 213, 401, 888, 917, 998, 893, 842, 119, 672, 298, 490, 217, 27, 915]\n",
      "[166, 981, 509, 853, 903, 592, 85, 999, 295, 462, 698, 361, 633, 702, 967]\n",
      "[854, 438, 98, 843, 441, 656, 542, 919, 942, 522, 593, 5, 661, 782, 817]\n",
      "[557, 556, 543, 919, 401, 113, 44, 156, 246, 412, 269, 207, 973, 650, 520]\n",
      "[543, 429, 677, 525, 640, 616, 122, 231, 615, 130, 697, 687, 386, 836, 181]\n",
      "[477, 232, 272, 373, 871, 508, 583, 535, 305, 509, 672, 96, 277, 87, 686]\n",
      "[270, 783, 105, 238, 859, 494, 58, 784, 275, 812, 49, 739, 296, 956, 979]\n",
      "[32, 841, 848, 824, 663, 17, 82, 9, 316, 737, 674, 695, 608, 963, 707]\n",
      "[227, 525, 689, 21, 885, 336, 154, 320, 471, 690, 638, 752, 525, 737, 657]\n",
      "[413, 914, 585, 512, 940, 119, 694, 455, 268, 280, 929, 672, 482, 95, 496]\n",
      "[681, 345, 369, 213, 206, 779, 604, 476, 826, 948, 905, 35, 787, 510, 783]\n",
      "[914, 830, 780, 969, 441, 929, 915, 918, 978, 794, 362, 468, 78, 689, 268]\n",
      "[205, 913, 363, 38, 690, 7, 303, 354, 753, 29, 513, 307, 883, 308, 379]\n",
      "[674, 559, 294, 119, 728, 626, 77, 883, 233, 253, 144, 552, 71, 678, 526]\n",
      "[392, 866, 142, 220, 316, 558, 848, 963, 844, 193, 3, 725, 773, 389, 688]\n"
     ]
    }
   ],
   "source": [
    "# 12 list comprehension\n",
    "#Given is a series my_num of 330 arbitrary numbers. The series is composed \n",
    "#by 22 independent variables that you have to separate again.\n",
    "#Use list comprehension to separate the 22 independent variables into sublists\n",
    "#such that you can assign separate names and create a data frame. The goal \n",
    "#is to have a list of lists for all the independent variables like:\n",
    "\n",
    "from random import random\n",
    "my_num = []\n",
    " \n",
    "for i in range(330):\n",
    "    my_num += [int(random()*1000)]\n",
    "\n",
    "my_vars = [my_num[i:i+15] for i in range(0, 330, 15)]\n",
    "print(*my_vars, sep='\\n')"
   ]
  },
  {
   "cell_type": "code",
   "execution_count": 16,
   "id": "895a6521",
   "metadata": {},
   "outputs": [
    {
     "name": "stdout",
     "output_type": "stream",
     "text": [
      "Stream obj: 8968\n",
      "Stream obj: 8324\n",
      "Stream obj: 5702\n",
      "Stream obj: 4173\n",
      "Stream obj: 4947\n",
      "Stream obj: 7181\n",
      "Stream obj: 9468\n",
      "Stream obj: 5999\n",
      "Stream obj: 8167\n",
      "Stream obj: 6430\n",
      "Stream obj: 1673\n",
      "Stream obj: 4235\n",
      "Stream obj: 2306\n",
      "Stream obj: 8007\n",
      "Stream obj: 1968\n"
     ]
    }
   ],
   "source": [
    "# 13 listed objects\n",
    "#Frequently, it is useful to have data recordings or stream access in objects\n",
    "#represented, especially if all are used in the same data analysis project.\n",
    "#Create 15 individual Stream objects in a list using list comprehension and\n",
    "#pass unique random id in the range 1000 to 9999 (i.e. from range(1000, 9999))\n",
    "#to the Stream init method. Complete the following code and run it for testing.\n",
    "#As result, it should output all given ids.\n",
    "\n",
    "from random import sample\n",
    " \n",
    "class Stream:\n",
    "    def __init__(self, id):\n",
    "        self.my_id = id\n",
    "    def __repr__(self):\n",
    "        return f\"Stream obj: {self.my_id}\"\n",
    "\n",
    "random_ids = sample(range(1000, 10000), 15)\n",
    "\n",
    "stream_objects = [Stream(id) for id in random_ids]\n",
    "print(*stream_objects, sep='\\n')"
   ]
  },
  {
   "cell_type": "code",
   "execution_count": 17,
   "id": "72147d32",
   "metadata": {},
   "outputs": [
    {
     "name": "stdout",
     "output_type": "stream",
     "text": [
      "99\n",
      "not possible\n"
     ]
    }
   ],
   "source": [
    "class S(object):\n",
    "    __slots__ = ['val', 'new'] # only attribute 'val' is allowed\n",
    "    \n",
    "    def __init__(self, v):\n",
    "        self.val = v\n",
    "x = S(42)             # create an object x (of type S)\n",
    "x.val = 99            # change the data attribute val\n",
    "print(x.val)          # printing of data attribute\n",
    "x.new = \"not possible\"\n",
    "print(x.new)"
   ]
  }
 ],
 "metadata": {
  "kernelspec": {
   "display_name": "Python 3 (ipykernel)",
   "language": "python",
   "name": "python3"
  },
  "language_info": {
   "codemirror_mode": {
    "name": "ipython",
    "version": 3
   },
   "file_extension": ".py",
   "mimetype": "text/x-python",
   "name": "python",
   "nbconvert_exporter": "python",
   "pygments_lexer": "ipython3",
   "version": "3.11.7"
  }
 },
 "nbformat": 4,
 "nbformat_minor": 5
}
